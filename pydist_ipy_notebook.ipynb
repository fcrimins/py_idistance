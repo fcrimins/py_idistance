{
 "metadata": {
  "name": "",
  "signature": "sha256:effb427e6d232b35f2a5738d6a8d488101acd9581b53ba8a8e3befbc90985db6"
 },
 "nbformat": 3,
 "nbformat_minor": 0,
 "worksheets": [
  {
   "cells": [
    {
     "cell_type": "code",
     "collapsed": false,
     "input": [
      "import os\n",
      "os.getcwd()"
     ],
     "language": "python",
     "metadata": {},
     "outputs": [
      {
       "metadata": {},
       "output_type": "pyout",
       "prompt_number": 1,
       "text": [
        "'C:\\\\Users\\\\Michelle\\\\Documents\\\\eclipse_code\\\\py_idistance'"
       ]
      }
     ],
     "prompt_number": 1
    },
    {
     "cell_type": "code",
     "collapsed": false,
     "input": [
      "import cIdist\n",
      "cIdist.knn_search_sequential([], None, 2)"
     ],
     "language": "python",
     "metadata": {},
     "outputs": [
      {
       "metadata": {},
       "output_type": "pyout",
       "prompt_number": 2,
       "text": [
        "'hello K_ = 2'"
       ]
      }
     ],
     "prompt_number": 2
    }
   ],
   "metadata": {}
  }
 ]
}