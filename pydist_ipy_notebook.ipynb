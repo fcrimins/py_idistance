{
 "metadata": {
  "name": "",
  "signature": "sha256:ab0f9978ef3e2765786689d85943f881b14cbccb6d4b05e5fd3856b437490cc1"
 },
 "nbformat": 3,
 "nbformat_minor": 0,
 "worksheets": [
  {
   "cells": [
    {
     "cell_type": "code",
     "collapsed": false,
     "input": [
      "import numpy as np\n",
      "dat = []\n",
      "dat.append(np.random.randn(4, 2))\n",
      "dat"
     ],
     "language": "python",
     "metadata": {},
     "outputs": [
      {
       "metadata": {},
       "output_type": "pyout",
       "prompt_number": 1,
       "text": [
        "[array([[ 0.37948374, -0.79108155],\n",
        "        [-0.85290086, -1.51999628],\n",
        "        [-0.91419345,  0.65535495],\n",
        "        [-0.70712654,  0.62775897]])]"
       ]
      }
     ]
    },
    {
     "cell_type": "code",
     "collapsed": false,
     "input": [
      "import cIdist\n",
      "cIdist.knn_search_sequential(dat, None, 2)"
     ],
     "language": "python",
     "metadata": {},
     "outputs": []
    },
    {
     "cell_type": "code",
     "collapsed": false,
     "input": [],
     "language": "python",
     "metadata": {},
     "outputs": []
    }
   ],
   "metadata": {}
  }
 ]
}